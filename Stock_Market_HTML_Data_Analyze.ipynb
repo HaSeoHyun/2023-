{
  "nbformat": 4,
  "nbformat_minor": 0,
  "metadata": {
    "colab": {
      "provenance": [],
      "authorship_tag": "ABX9TyOPVXsbRVjfaXaCs8gJEBCQ",
      "include_colab_link": true
    },
    "kernelspec": {
      "name": "python3",
      "display_name": "Python 3"
    },
    "language_info": {
      "name": "python"
    }
  },
  "cells": [
    {
      "cell_type": "markdown",
      "metadata": {
        "id": "view-in-github",
        "colab_type": "text"
      },
      "source": [
        "<a href=\"https://colab.research.google.com/github/HaSeoHyun/2023-AI-BoostCourse/blob/main/Stock_Market_HTML_Data_Analyze.ipynb\" target=\"_parent\"><img src=\"https://colab.research.google.com/assets/colab-badge.svg\" alt=\"Open In Colab\"/></a>"
      ]
    },
    {
      "cell_type": "markdown",
      "source": [
        "네이버 금융 사이트를 이용하여 삼성전자 주가부분 HTML 추출 "
      ],
      "metadata": {
        "id": "fvswISWbTgr_"
      }
    },
    {
      "cell_type": "markdown",
      "source": [
        "https://finance.naver.com/item/main.naver?code=005930 사용"
      ],
      "metadata": {
        "id": "eiPsK2uxTtR4"
      }
    },
    {
      "cell_type": "code",
      "execution_count": null,
      "metadata": {
        "id": "tpfJoVVGTYjn"
      },
      "outputs": [],
      "source": [
        "import urllib.request\n",
        "import re"
      ]
    },
    {
      "cell_type": "code",
      "source": [
        "shape = \"https://finance.naver.com/item/main.naver?code=\"\n",
        "num = input(\"종목 번호:\")\n",
        "url = shape+num\n",
        "html = urllib.request.urlopen(url)\n",
        "html_contents = str(html.read().decode(\"ms949\"))"
      ],
      "metadata": {
        "colab": {
          "base_uri": "https://localhost:8080/"
        },
        "id": "XfnBY5Z0UHIN",
        "outputId": "00054c16-b605-47e2-8283-2f16e1cfc05b"
      },
      "execution_count": null,
      "outputs": [
        {
          "name": "stdout",
          "output_type": "stream",
          "text": [
            "종목 번호:005930\n"
          ]
        }
      ]
    },
    {
      "cell_type": "code",
      "source": [
        "stock_results = re.findall(\"(\\<dl class=\\\"blind\\\"\\>)([\\s\\S]+?)(\\<\\/dl\\>)\", html_contents)\n",
        "s_stock = stock_results[0]\n",
        "s_index = s_stock[1]\n",
        "index_list = re.findall(\"(\\<dd\\>)([\\s\\S]+?)(\\<\\/dd\\>)\",s_index)\n",
        "\n",
        "for index in index_list:\n",
        "  print(index[1])"
      ],
      "metadata": {
        "colab": {
          "base_uri": "https://localhost:8080/"
        },
        "id": "JwlABNFiUbWZ",
        "outputId": "aee9fd2b-f9a2-40fa-aeff-d337859b97a7"
      },
      "execution_count": null,
      "outputs": [
        {
          "output_type": "stream",
          "name": "stdout",
          "text": [
            "2023년 01월 27일 16시 11분 기준 장마감\n",
            "종목명 삼성전자\n",
            "종목코드 005930 코스피\n",
            "현재가 64,600 전일대비 상승 700 플러스 1.10 퍼센트\n",
            "전일가 63,900\n",
            "시가 64,400\n",
            "고가 65,000\n",
            "상한가 83,000\n",
            "저가 63,900\n",
            "하한가 44,800\n",
            "거래량 18,154,371\n",
            "거래대금 1,173,645백만\n"
          ]
        }
      ]
    }
  ]
}