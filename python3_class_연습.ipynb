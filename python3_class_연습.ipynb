{
  "nbformat": 4,
  "nbformat_minor": 0,
  "metadata": {
    "colab": {
      "provenance": []
    },
    "kernelspec": {
      "name": "python3",
      "display_name": "Python 3"
    },
    "language_info": {
      "name": "python"
    }
  },
  "cells": [
    {
      "cell_type": "markdown",
      "source": [
        "노트 정리 프로그램\n",
        "\n",
        "Note에는 Content가 있고, 두 개의 노트북을 합칠 수 있다. \n",
        "\n",
        "Note는 Notebook에 삽입된다. \n",
        "Notebook은 Note가 삽일될 때 페이지를 생성하며, 최고 300p까지 저장 가능하다.\n",
        "\n",
        "300p가 넘으면 더 이상 노트를 삽입하지 못한다. "
      ],
      "metadata": {
        "id": "3Unn6g5SEH53"
      }
    },
    {
      "cell_type": "code",
      "source": [
        "class NoteBook():\n",
        "\n",
        "  def __init__(self,title):\n",
        "    self.title = title\n",
        "    self.page_number = 1\n",
        "    self.notes = {}\n",
        "    \n",
        "  def add_note(self,note,page = 0):\n",
        "    if self.page_number < 300:\n",
        "      if page == 0:\n",
        "        self.notes[self.page_number] = note\n",
        "        self.page_number +=1\n",
        "      \n",
        "      else:\n",
        "        self.notes[page] = note\n",
        "        self.page_number +=1\n",
        "    else:\n",
        "      print(\"노트가 모두 채워졌습니다.\")\n",
        "\n",
        "  def remove_note(self, page_number):\n",
        "      if page_number in self.notes.keys():\n",
        "        return self.notes.pop(page_number)\n",
        "      \n",
        "      else:\n",
        "        print(\"해당 페이지는 존재하지 않습니다.\")\n",
        "\n",
        "  def get_number_of_pages(self):\n",
        "    return len(self.notes.keys())"
      ],
      "metadata": {
        "id": "ZY1FeAYlE-oV"
      },
      "execution_count": 31,
      "outputs": []
    },
    {
      "cell_type": "code",
      "execution_count": 32,
      "metadata": {
        "id": "GZW1qqlyEChx"
      },
      "outputs": [],
      "source": [
        "class Note:\n",
        "  def __init__(self, content):\n",
        "    self.content = content \n",
        "\n",
        "  def write_content(self,content):\n",
        "    self.content = content\n",
        "\n",
        "  def remove_all(self):\n",
        "    self.content = \"\"\n",
        "  \n",
        "  def __add__(self,other):\n",
        "    return self.content + other.content\n",
        "\n",
        "  def __str__(self):\n",
        "    return self.content"
      ]
    },
    {
      "cell_type": "code",
      "source": [
        "my_notebook = NoteBook(\"강의노트\")\n",
        "new_note = Note(\"공 부 싫 어\")\n",
        "print(\"노트에 적힌 내용입니다:\", new_note)"
      ],
      "metadata": {
        "colab": {
          "base_uri": "https://localhost:8080/"
        },
        "id": "oc6fQD9-JDaz",
        "outputId": "b3fffc9b-e424-4f45-f043-18ed345f6cf7"
      },
      "execution_count": 33,
      "outputs": [
        {
          "output_type": "stream",
          "name": "stdout",
          "text": [
            "노트에 적힌 내용입니다: 공 부 싫 어\n"
          ]
        }
      ]
    },
    {
      "cell_type": "code",
      "source": [
        "new_note_2 = Note(\"파이썬 강의\")\n",
        "print(\"노트에 적힌 내용입니다:\" ,new_note_2)"
      ],
      "metadata": {
        "colab": {
          "base_uri": "https://localhost:8080/"
        },
        "id": "ed0THOaCK3fz",
        "outputId": "df284824-53a5-4660-b402-9cd5f1180ca7"
      },
      "execution_count": 34,
      "outputs": [
        {
          "output_type": "stream",
          "name": "stdout",
          "text": [
            "노트에 적힌 내용입니다: 파이썬 강의\n"
          ]
        }
      ]
    },
    {
      "cell_type": "code",
      "source": [
        "my_notebook.add_note(new_note) #기본: 1페이지부터 차곡차곡 할당 \n",
        "my_notebook.add_note(new_note_2, 100)  #100페이지에 할당 \n",
        "my_notebook.notes"
      ],
      "metadata": {
        "colab": {
          "base_uri": "https://localhost:8080/"
        },
        "id": "2o0-hOglLCI3",
        "outputId": "c02f518a-2dfb-4850-8630-c4e1613b27b3"
      },
      "execution_count": 35,
      "outputs": [
        {
          "output_type": "execute_result",
          "data": {
            "text/plain": [
              "{1: <__main__.Note at 0x7ff3b985aeb0>, 100: <__main__.Note at 0x7ff3b985aaf0>}"
            ]
          },
          "metadata": {},
          "execution_count": 35
        }
      ]
    },
    {
      "cell_type": "code",
      "source": [
        "print(my_notebook.notes[100])\n",
        "my_notebook.notes[2] = Note(\"안녕\")\n",
        "print(my_notebook.notes[2])"
      ],
      "metadata": {
        "colab": {
          "base_uri": "https://localhost:8080/"
        },
        "id": "aFQ8M3s2Mgeb",
        "outputId": "fc9c0603-c9c5-45a0-f01c-2690a91008cc"
      },
      "execution_count": 38,
      "outputs": [
        {
          "output_type": "stream",
          "name": "stdout",
          "text": [
            "파이썬 강의\n",
            "안녕\n"
          ]
        }
      ]
    }
  ]
}